{
 "cells": [
  {
   "cell_type": "markdown",
   "metadata": {},
   "source": [
    "**建议大家可以根据本文答案，更快的做完题目，总结规律，形成自己的知识框架。\n",
    "原文地址：[Improving Your Data Visualizations in Python](https://learn.datacamp.com/courses/improving-your-data-visualizations-in-python)\n",
    "DataCamp上的题目都不错，适合正在打基础的初学者**"
   ]
  },
  {
   "cell_type": "markdown",
   "metadata": {
    "toc": true
   },
   "source": [
    "<h1>Table of Contents<span class=\"tocSkip\"></span></h1>\n",
    "<div class=\"toc\"><ul class=\"toc-item\"><li><span><a href=\"#Seaborn-Introduction\" data-toc-modified-id=\"Seaborn-Introduction-1\"><span class=\"toc-item-num\">1&nbsp;&nbsp;</span>Seaborn Introduction</a></span><ul class=\"toc-item\"><li><span><a href=\"#Reading-a-csv-file\" data-toc-modified-id=\"Reading-a-csv-file-1.1\"><span class=\"toc-item-num\">1.1&nbsp;&nbsp;</span>Reading a csv file</a></span></li><li><span><a href=\"#Comparing-a-histogram-and-distplot\" data-toc-modified-id=\"Comparing-a-histogram-and-distplot-1.2\"><span class=\"toc-item-num\">1.2&nbsp;&nbsp;</span>Comparing a histogram and distplot</a></span></li><li><span><a href=\"#Plot-a-histogram\" data-toc-modified-id=\"Plot-a-histogram-1.3\"><span class=\"toc-item-num\">1.3&nbsp;&nbsp;</span>Plot a histogram</a></span></li><li><span><a href=\"#Rug-plot-and-kde-shading\" data-toc-modified-id=\"Rug-plot-and-kde-shading-1.4\"><span class=\"toc-item-num\">1.4&nbsp;&nbsp;</span>Rug plot and kde shading</a></span></li><li><span><a href=\"#Interpreting-the-results\" data-toc-modified-id=\"Interpreting-the-results-1.5\"><span class=\"toc-item-num\">1.5&nbsp;&nbsp;</span>Interpreting the results</a></span></li><li><span><a href=\"#Create-a-regression-plot\" data-toc-modified-id=\"Create-a-regression-plot-1.6\"><span class=\"toc-item-num\">1.6&nbsp;&nbsp;</span>Create a regression plot</a></span></li><li><span><a href=\"#Plotting-multiple-variables\" data-toc-modified-id=\"Plotting-multiple-variables-1.7\"><span class=\"toc-item-num\">1.7&nbsp;&nbsp;</span>Plotting multiple variables</a></span></li><li><span><a href=\"#Facetting-multiple-regressions\" data-toc-modified-id=\"Facetting-multiple-regressions-1.8\"><span class=\"toc-item-num\">1.8&nbsp;&nbsp;</span>Facetting multiple regressions</a></span></li></ul></li><li><span><a href=\"#Customizing-Seaborn-Plots\" data-toc-modified-id=\"Customizing-Seaborn-Plots-2\"><span class=\"toc-item-num\">2&nbsp;&nbsp;</span>Customizing Seaborn Plots</a></span><ul class=\"toc-item\"><li><span><a href=\"#Setting-the-default-style\" data-toc-modified-id=\"Setting-the-default-style-2.1\"><span class=\"toc-item-num\">2.1&nbsp;&nbsp;</span>Setting the default style</a></span></li><li><span><a href=\"#Comparing-styles\" data-toc-modified-id=\"Comparing-styles-2.2\"><span class=\"toc-item-num\">2.2&nbsp;&nbsp;</span>Comparing styles</a></span></li><li><span><a href=\"#Removing-spines\" data-toc-modified-id=\"Removing-spines-2.3\"><span class=\"toc-item-num\">2.3&nbsp;&nbsp;</span>Removing spines</a></span></li><li><span><a href=\"#Matplotlib-color-codes\" data-toc-modified-id=\"Matplotlib-color-codes-2.4\"><span class=\"toc-item-num\">2.4&nbsp;&nbsp;</span>Matplotlib color codes</a></span></li><li><span><a href=\"#Using-default-palettes\" data-toc-modified-id=\"Using-default-palettes-2.5\"><span class=\"toc-item-num\">2.5&nbsp;&nbsp;</span>Using default palettes</a></span></li><li><span><a href=\"#Color-Palettes\" data-toc-modified-id=\"Color-Palettes-2.6\"><span class=\"toc-item-num\">2.6&nbsp;&nbsp;</span>Color Palettes</a></span></li><li><span><a href=\"#Creating-Custom-Palettes\" data-toc-modified-id=\"Creating-Custom-Palettes-2.7\"><span class=\"toc-item-num\">2.7&nbsp;&nbsp;</span>Creating Custom Palettes</a></span></li><li><span><a href=\"#Using-matplotlib-axes\" data-toc-modified-id=\"Using-matplotlib-axes-2.8\"><span class=\"toc-item-num\">2.8&nbsp;&nbsp;</span>Using matplotlib axes</a></span></li><li><span><a href=\"#Additional-plot-customizations\" data-toc-modified-id=\"Additional-plot-customizations-2.9\"><span class=\"toc-item-num\">2.9&nbsp;&nbsp;</span>Additional plot customizations</a></span></li><li><span><a href=\"#Adding-annotations\" data-toc-modified-id=\"Adding-annotations-2.10\"><span class=\"toc-item-num\">2.10&nbsp;&nbsp;</span>Adding annotations</a></span></li><li><span><a href=\"#Multiple-plots\" data-toc-modified-id=\"Multiple-plots-2.11\"><span class=\"toc-item-num\">2.11&nbsp;&nbsp;</span>Multiple plots</a></span></li></ul></li><li><span><a href=\"#Additional-Plot-Types\" data-toc-modified-id=\"Additional-Plot-Types-3\"><span class=\"toc-item-num\">3&nbsp;&nbsp;</span>Additional Plot Types</a></span><ul class=\"toc-item\"><li><span><a href=\"#stripplot()-and-swarmplot()\" data-toc-modified-id=\"stripplot()-and-swarmplot()-3.1\"><span class=\"toc-item-num\">3.1&nbsp;&nbsp;</span>stripplot() and swarmplot()</a></span></li><li><span><a href=\"#boxplots,-violinplots-and-lvplots\" data-toc-modified-id=\"boxplots,-violinplots-and-lvplots-3.2\"><span class=\"toc-item-num\">3.2&nbsp;&nbsp;</span>boxplots, violinplots and lvplots</a></span></li><li><span><a href=\"#barplots,-pointplots-and-countplots\" data-toc-modified-id=\"barplots,-pointplots-and-countplots-3.3\"><span class=\"toc-item-num\">3.3&nbsp;&nbsp;</span>barplots, pointplots and countplots</a></span></li><li><span><a href=\"#Regression-and-residual-plots\" data-toc-modified-id=\"Regression-and-residual-plots-3.4\"><span class=\"toc-item-num\">3.4&nbsp;&nbsp;</span>Regression and residual plots</a></span></li><li><span><a href=\"#Regression-plot-parameters\" data-toc-modified-id=\"Regression-plot-parameters-3.5\"><span class=\"toc-item-num\">3.5&nbsp;&nbsp;</span>Regression plot parameters</a></span></li><li><span><a href=\"#Binning-data\" data-toc-modified-id=\"Binning-data-3.6\"><span class=\"toc-item-num\">3.6&nbsp;&nbsp;</span>Binning data</a></span></li><li><span><a href=\"#Creating-heatmaps\" data-toc-modified-id=\"Creating-heatmaps-3.7\"><span class=\"toc-item-num\">3.7&nbsp;&nbsp;</span>Creating heatmaps</a></span></li><li><span><a href=\"#Customizing-heatmaps\" data-toc-modified-id=\"Customizing-heatmaps-3.8\"><span class=\"toc-item-num\">3.8&nbsp;&nbsp;</span>Customizing heatmaps</a></span></li></ul></li><li><span><a href=\"#Creating-Plots-on-Data-Aware-Grids\" data-toc-modified-id=\"Creating-Plots-on-Data-Aware-Grids-4\"><span class=\"toc-item-num\">4&nbsp;&nbsp;</span>Creating Plots on Data Aware Grids</a></span><ul class=\"toc-item\"><li><span><a href=\"#Building-a-FacetGrid\" data-toc-modified-id=\"Building-a-FacetGrid-4.1\"><span class=\"toc-item-num\">4.1&nbsp;&nbsp;</span>Building a FacetGrid</a></span></li><li><span><a href=\"#Using-a-factorplot\" data-toc-modified-id=\"Using-a-factorplot-4.2\"><span class=\"toc-item-num\">4.2&nbsp;&nbsp;</span>Using a factorplot</a></span></li><li><span><a href=\"#Using-a-lmplot\" data-toc-modified-id=\"Using-a-lmplot-4.3\"><span class=\"toc-item-num\">4.3&nbsp;&nbsp;</span>Using a lmplot</a></span></li><li><span><a href=\"#Building-a-PairGrid\" data-toc-modified-id=\"Building-a-PairGrid-4.4\"><span class=\"toc-item-num\">4.4&nbsp;&nbsp;</span>Building a PairGrid</a></span></li><li><span><a href=\"#Using-a-pairplot\" data-toc-modified-id=\"Using-a-pairplot-4.5\"><span class=\"toc-item-num\">4.5&nbsp;&nbsp;</span>Using a pairplot</a></span></li><li><span><a href=\"#Additional-pairplots\" data-toc-modified-id=\"Additional-pairplots-4.6\"><span class=\"toc-item-num\">4.6&nbsp;&nbsp;</span>Additional pairplots</a></span></li><li><span><a href=\"#Building-a-JointGrid-and-jointplot\" data-toc-modified-id=\"Building-a-JointGrid-and-jointplot-4.7\"><span class=\"toc-item-num\">4.7&nbsp;&nbsp;</span>Building a JointGrid and jointplot</a></span></li><li><span><a href=\"#Jointplots-and-regression\" data-toc-modified-id=\"Jointplots-and-regression-4.8\"><span class=\"toc-item-num\">4.8&nbsp;&nbsp;</span>Jointplots and regression</a></span></li><li><span><a href=\"#Complex-jointplots\" data-toc-modified-id=\"Complex-jointplots-4.9\"><span class=\"toc-item-num\">4.9&nbsp;&nbsp;</span>Complex jointplots</a></span></li></ul></li></ul></div>"
   ]
  },
  {
   "cell_type": "markdown",
   "metadata": {},
   "source": [
    "# Seaborn Introduction"
   ]
  },
  {
   "cell_type": "code",
   "execution_count": null,
   "metadata": {},
   "outputs": [],
   "source": [
    "matplotlib\n",
    "press\n"
   ]
  },
  {
   "cell_type": "markdown",
   "metadata": {},
   "source": [
    "## Reading a csv file"
   ]
  },
  {
   "cell_type": "code",
   "execution_count": null,
   "metadata": {},
   "outputs": [],
   "source": [
    "# import all modules\n",
    "import pandas as pd\n",
    "import seaborn as sns\n",
    "import matplotlib.pyplot as plt\n",
    "\n",
    "# Read in the DataFrame\n",
    "df = pd.read_csv(grant_file)"
   ]
  },
  {
   "cell_type": "markdown",
   "metadata": {},
   "source": [
    "## Comparing a histogram and distplot"
   ]
  },
  {
   "cell_type": "code",
   "execution_count": null,
   "metadata": {},
   "outputs": [],
   "source": [
    "# Display pandas histogram\n",
    "df['Award_Amount'].plot.hist()\n",
    "plt.show()\n",
    "\n",
    "# Clear out the pandas histogram\n",
    "plt.clf()"
   ]
  },
  {
   "cell_type": "code",
   "execution_count": null,
   "metadata": {},
   "outputs": [],
   "source": [
    "# Display a Seaborn distplot\n",
    "sns.distplot(df['Award_Amount'])\n",
    "plt.show()\n",
    "\n",
    "# Clear the distplot\n",
    "plt.clf()"
   ]
  },
  {
   "cell_type": "markdown",
   "metadata": {},
   "source": [
    "## Plot a histogram"
   ]
  },
  {
   "cell_type": "code",
   "execution_count": null,
   "metadata": {},
   "outputs": [],
   "source": [
    "# Create a distplot\n",
    "sns.distplot(df['Award_Amount'],\n",
    "             kde=False,\n",
    "             bins=20)\n",
    "\n",
    "# Display a plot\n",
    "plt.show()"
   ]
  },
  {
   "cell_type": "markdown",
   "metadata": {},
   "source": [
    "## Rug plot and kde shading"
   ]
  },
  {
   "cell_type": "code",
   "execution_count": null,
   "metadata": {},
   "outputs": [],
   "source": [
    "# Create a distplot of the Award Amount\n",
    "sns.distplot(df['Award_Amount'],\n",
    "             hist=False,\n",
    "             rug=True,\n",
    "             kde_kws={'shade':True})\n",
    "\n",
    "# Plot the results\n",
    "plt.show()"
   ]
  },
  {
   "cell_type": "markdown",
   "metadata": {},
   "source": [
    "## Interpreting the results"
   ]
  },
  {
   "cell_type": "code",
   "execution_count": null,
   "metadata": {},
   "outputs": [],
   "source": [
    "There are a large group of award amounts < $400K.\n",
    "press\n"
   ]
  },
  {
   "cell_type": "markdown",
   "metadata": {},
   "source": [
    "## Create a regression plot"
   ]
  },
  {
   "cell_type": "code",
   "execution_count": null,
   "metadata": {},
   "outputs": [],
   "source": [
    "# Create a regression plot of premiums vs. insurance_losses\n",
    "sns.regplot(data=df,\n",
    "            x=\"insurance_losses\",\n",
    "            y=\"premiums\")\n",
    "\n",
    "# Display the plot\n",
    "plt.show()"
   ]
  },
  {
   "cell_type": "code",
   "execution_count": null,
   "metadata": {},
   "outputs": [],
   "source": [
    "# Create an lmplot of premiums vs. insurance_losses\n",
    "sns.lmplot(data=df,\n",
    "           x=\"insurance_losses\",\n",
    "           y=\"premiums\")\n",
    "\n",
    "# Display the second plot\n",
    "plt.show()"
   ]
  },
  {
   "cell_type": "markdown",
   "metadata": {},
   "source": [
    "## Plotting multiple variables"
   ]
  },
  {
   "cell_type": "code",
   "execution_count": null,
   "metadata": {},
   "outputs": [],
   "source": [
    "# Create a regression plot using hue\n",
    "sns.lmplot(data=df,\n",
    "           x=\"insurance_losses\",\n",
    "           y=\"premiums\",\n",
    "           hue=\"Region\")\n",
    "\n",
    "#Show the results\n",
    "plt.show()"
   ]
  },
  {
   "cell_type": "markdown",
   "metadata": {},
   "source": [
    "## Facetting multiple regressions"
   ]
  },
  {
   "cell_type": "code",
   "execution_count": null,
   "metadata": {},
   "outputs": [],
   "source": [
    "# Create a regression plot with multiple rows\n",
    "sns.lmplot(data=df,\n",
    "           x=\"insurance_losses\",\n",
    "           y=\"premiums\",\n",
    "           row=\"Region\")\n",
    "\n",
    "# Show the plot\n",
    "plt.show()"
   ]
  },
  {
   "cell_type": "markdown",
   "metadata": {},
   "source": [
    "# Customizing Seaborn Plots"
   ]
  },
  {
   "cell_type": "markdown",
   "metadata": {},
   "source": [
    "## Setting the default style"
   ]
  },
  {
   "cell_type": "code",
   "execution_count": null,
   "metadata": {},
   "outputs": [],
   "source": [
    "# Plot the pandas histogram\n",
    "df['fmr_2'].plot.hist()\n",
    "plt.show()\n",
    "plt.clf()\n",
    "\n",
    "# Set the default seaborn style\n",
    "sns.set()\n",
    "\n",
    "# Plot the pandas histogram again\n",
    "df['fmr_2'].plot.hist()\n",
    "plt.show()\n",
    "plt.clf()"
   ]
  },
  {
   "cell_type": "markdown",
   "metadata": {},
   "source": [
    "## Comparing styles"
   ]
  },
  {
   "cell_type": "code",
   "execution_count": null,
   "metadata": {},
   "outputs": [],
   "source": [
    "# Plot with a dark style \n",
    "sns.set_style('dark')\n",
    "sns.distplot(df['fmr_2'])\n",
    "plt.show()\n",
    "\n",
    "# Clear the figure\n",
    "plt.clf()"
   ]
  },
  {
   "cell_type": "code",
   "execution_count": null,
   "metadata": {},
   "outputs": [],
   "source": [
    "# Plot with a whitegrid style\n",
    "sns.set_style('whitegrid')\n",
    "sns.distplot(df['fmr_2'])\n",
    "plt.show()\n",
    "\n",
    "# Clear the figure\n",
    "plt.clf()"
   ]
  },
  {
   "cell_type": "markdown",
   "metadata": {},
   "source": [
    "## Removing spines"
   ]
  },
  {
   "cell_type": "code",
   "execution_count": null,
   "metadata": {},
   "outputs": [],
   "source": [
    "# Set the style to white\n",
    "sns.set_style('white')\n",
    "\n",
    "# Create a regression plot\n",
    "sns.lmplot(data=df,\n",
    "           x='pop2010',\n",
    "           y='fmr_2')\n",
    "\n",
    "# Remove the spines\n",
    "sns.despine()\n",
    "\n",
    "# Show the plot and clear the figure\n",
    "plt.show()\n",
    "plt.clf()"
   ]
  },
  {
   "cell_type": "markdown",
   "metadata": {},
   "source": [
    "## Matplotlib color codes"
   ]
  },
  {
   "cell_type": "code",
   "execution_count": null,
   "metadata": {},
   "outputs": [],
   "source": [
    "# Set style, enable color code, and create a magenta distplot\n",
    "sns.set(color_codes=True)\n",
    "sns.distplot(df['fmr_3'], color='m')\n",
    "\n",
    "# Show the plot\n",
    "plt.show()"
   ]
  },
  {
   "cell_type": "markdown",
   "metadata": {},
   "source": [
    "## Using default palettes"
   ]
  },
  {
   "cell_type": "code",
   "execution_count": null,
   "metadata": {},
   "outputs": [],
   "source": [
    "# Loop through differences between bright and colorblind palettes\n",
    "for p in ['bright', 'colorblind']:\n",
    "    sns.set_palette(p)\n",
    "    sns.distplot(df['fmr_3'])\n",
    "    plt.show()\n",
    "    \n",
    "    # Clear the plots\n",
    "    plt.clf()"
   ]
  },
  {
   "cell_type": "markdown",
   "metadata": {},
   "source": [
    "## Color Palettes"
   ]
  },
  {
   "cell_type": "code",
   "execution_count": null,
   "metadata": {},
   "outputs": [],
   "source": [
    "circular\n",
    "press\n"
   ]
  },
  {
   "cell_type": "markdown",
   "metadata": {},
   "source": [
    "## Creating Custom Palettes"
   ]
  },
  {
   "cell_type": "code",
   "execution_count": null,
   "metadata": {},
   "outputs": [],
   "source": [
    "# Create the Purples palette\n",
    "sns.palplot(sns.color_palette(\"Purples\", 8))\n",
    "plt.show()"
   ]
  },
  {
   "cell_type": "code",
   "execution_count": null,
   "metadata": {},
   "outputs": [],
   "source": [
    "# Create the husl palette\n",
    "sns.palplot(sns.color_palette(\"husl\", 10))\n",
    "plt.show()"
   ]
  },
  {
   "cell_type": "code",
   "execution_count": null,
   "metadata": {},
   "outputs": [],
   "source": [
    "# Create the coolwarm palette\n",
    "sns.palplot(sns.color_palette(\"coolwarm\", 6))\n",
    "plt.show()"
   ]
  },
  {
   "cell_type": "markdown",
   "metadata": {},
   "source": [
    "## Using matplotlib axes"
   ]
  },
  {
   "cell_type": "code",
   "execution_count": null,
   "metadata": {},
   "outputs": [],
   "source": [
    "# Create a figure and axes\n",
    "fig, ax = plt.subplots()\n",
    "\n",
    "# Plot the distribution of data\n",
    "sns.distplot(df['fmr_3'], ax=ax)\n",
    "\n",
    "# Create a more descriptive x axis label\n",
    "ax.set(xlabel=\"3 Bedroom Fair Market Rent\")\n",
    "\n",
    "# Show the plot\n",
    "plt.show()"
   ]
  },
  {
   "cell_type": "markdown",
   "metadata": {},
   "source": [
    "## Additional plot customizations"
   ]
  },
  {
   "cell_type": "code",
   "execution_count": null,
   "metadata": {},
   "outputs": [],
   "source": [
    "# Create a figure and axes\n",
    "fig, ax = plt.subplots()\n",
    "\n",
    "# Plot the distribution of 1 bedroom rents\n",
    "sns.distplot(df['fmr_1'], ax=ax)\n",
    "\n",
    "# Modify the properties of the plot\n",
    "ax.set(xlabel=\"1 Bedroom Fair Market Rent\",\n",
    "       xlim=(100,1500),\n",
    "       title=\"US Rent\")\n",
    "\n",
    "# Display the plot\n",
    "plt.show()"
   ]
  },
  {
   "cell_type": "markdown",
   "metadata": {},
   "source": [
    "## Adding annotations"
   ]
  },
  {
   "cell_type": "code",
   "execution_count": null,
   "metadata": {},
   "outputs": [],
   "source": [
    "# Create a figure and axes. Then plot the data\n",
    "fig, ax = plt.subplots()\n",
    "sns.distplot(df['fmr_1'], ax=ax)\n",
    "\n",
    "# Customize the labels and limits\n",
    "ax.set(xlabel=\"1 Bedroom Fair Market Rent\", xlim=(100,1500), title=\"US Rent\")\n",
    "\n",
    "# Add vertical lines for the median and mean\n",
    "ax.axvline(x=median, color='m', label='Median', linestyle='--', linewidth=2)\n",
    "ax.axvline(x=mean, color='b', label='Mean', linestyle='-', linewidth=2)\n",
    "\n",
    "# Show the legend and plot the data\n",
    "ax.legend()\n",
    "plt.show()"
   ]
  },
  {
   "cell_type": "markdown",
   "metadata": {},
   "source": [
    "## Multiple plots"
   ]
  },
  {
   "cell_type": "code",
   "execution_count": null,
   "metadata": {},
   "outputs": [],
   "source": [
    "# Create a plot with 1 row and 2 columns that share the y axis label\n",
    "fig, (ax0, ax1) = plt.subplots(nrows=1, ncols=2, sharey=True)\n",
    "\n",
    "# Plot the distribution of 1 bedroom apartments on ax0\n",
    "sns.distplot(df['fmr_1'], ax=ax0)\n",
    "ax0.set(xlabel=\"1 Bedroom Fair Market Rent\", xlim=(100,1500))\n",
    "\n",
    "# Plot the distribution of 2 bedroom apartments on ax1\n",
    "sns.distplot(df['fmr_2'], ax=ax1)\n",
    "ax1.set(xlabel=\"2 Bedroom Fair Market Rent\", xlim=(100,1500))\n",
    "\n",
    "# Display the plot\n",
    "plt.show()"
   ]
  },
  {
   "cell_type": "markdown",
   "metadata": {},
   "source": [
    "# Additional Plot Types"
   ]
  },
  {
   "cell_type": "markdown",
   "metadata": {},
   "source": [
    "## stripplot() and swarmplot()"
   ]
  },
  {
   "cell_type": "code",
   "execution_count": null,
   "metadata": {},
   "outputs": [],
   "source": [
    "# Create the stripplot\n",
    "sns.stripplot(data=df,\n",
    "              x='Award_Amount',\n",
    "              y='Model Selected',\n",
    "              jitter=True)\n",
    "\n",
    "plt.show()"
   ]
  },
  {
   "cell_type": "code",
   "execution_count": null,
   "metadata": {},
   "outputs": [],
   "source": [
    "# Create and display a swarmplot with hue set to the Region\n",
    "sns.swarmplot(data=df,\n",
    "              x='Award_Amount',\n",
    "              y='Model Selected',\n",
    "              hue='Region')\n",
    "\n",
    "plt.show()"
   ]
  },
  {
   "cell_type": "markdown",
   "metadata": {},
   "source": [
    "## boxplots, violinplots and lvplots"
   ]
  },
  {
   "cell_type": "code",
   "execution_count": null,
   "metadata": {},
   "outputs": [],
   "source": [
    "# Create a boxplot\n",
    "sns.boxplot(data=df,\n",
    "            x='Award_Amount',\n",
    "            y='Model Selected')\n",
    "\n",
    "plt.show()\n",
    "plt.clf()"
   ]
  },
  {
   "cell_type": "code",
   "execution_count": null,
   "metadata": {},
   "outputs": [],
   "source": [
    "# Create a violinplot with the husl palette\n",
    "sns.violinplot(data=df,\n",
    "               x='Award_Amount',\n",
    "               y='Model Selected',\n",
    "               palette='husl')\n",
    "\n",
    "plt.show()\n",
    "plt.clf()"
   ]
  },
  {
   "cell_type": "code",
   "execution_count": null,
   "metadata": {},
   "outputs": [],
   "source": [
    "# Create a lvplot with the Paired palette and the Region column as the hue\n",
    "sns.lvplot(data=df,\n",
    "           x='Award_Amount',\n",
    "           y='Model Selected',\n",
    "           palette='Paired',\n",
    "           hue='Region')\n",
    "\n",
    "plt.show()\n",
    "plt.clf()"
   ]
  },
  {
   "cell_type": "markdown",
   "metadata": {},
   "source": [
    "## barplots, pointplots and countplots"
   ]
  },
  {
   "cell_type": "code",
   "execution_count": null,
   "metadata": {},
   "outputs": [],
   "source": [
    "# Show a countplot with the number of models used with each region a different color\n",
    "sns.countplot(data=df,\n",
    "              y=\"Model Selected\",\n",
    "              hue=\"Region\")\n",
    "\n",
    "plt.show()\n",
    "plt.clf()"
   ]
  },
  {
   "cell_type": "code",
   "execution_count": null,
   "metadata": {},
   "outputs": [],
   "source": [
    "# Create a pointplot and include the capsize in order to show caps on the error bars\n",
    "sns.pointplot(data=df,\n",
    "              y='Award_Amount',\n",
    "              x='Model Selected',\n",
    "              capsize=.1)\n",
    "\n",
    "plt.show()\n",
    "plt.clf()"
   ]
  },
  {
   "cell_type": "code",
   "execution_count": null,
   "metadata": {},
   "outputs": [],
   "source": [
    "# Create a barplot with each Region shown as a different color\n",
    "sns.barplot(data=df,\n",
    "            y='Award_Amount',\n",
    "            x='Model Selected',\n",
    "            hue='Region')\n",
    "\n",
    "plt.show()\n",
    "plt.clf()"
   ]
  },
  {
   "cell_type": "markdown",
   "metadata": {},
   "source": [
    "## Regression and residual plots"
   ]
  },
  {
   "cell_type": "code",
   "execution_count": null,
   "metadata": {},
   "outputs": [],
   "source": [
    "# Display a regression plot for Tuition\n",
    "sns.regplot(data=df,\n",
    "            y='Tuition',\n",
    "            x=\"SAT_AVG_ALL\",\n",
    "            marker='^',\n",
    "            color='g')\n",
    "\n",
    "plt.show()\n",
    "plt.clf()"
   ]
  },
  {
   "cell_type": "code",
   "execution_count": null,
   "metadata": {},
   "outputs": [],
   "source": [
    "# Display the residual plot\n",
    "sns.residplot(data=df,\n",
    "              y='Tuition',\n",
    "              x=\"SAT_AVG_ALL\",\n",
    "              color='g')\n",
    "\n",
    "plt.show()\n",
    "plt.clf()"
   ]
  },
  {
   "cell_type": "markdown",
   "metadata": {},
   "source": [
    "## Regression plot parameters"
   ]
  },
  {
   "cell_type": "code",
   "execution_count": null,
   "metadata": {},
   "outputs": [],
   "source": [
    "# Plot a regression plot of Tuition and the Percentage of Pell Grants\n",
    "sns.regplot(data=df,\n",
    "            y='Tuition',\n",
    "            x=\"PCTPELL\")\n",
    "\n",
    "plt.show()\n",
    "plt.clf()"
   ]
  },
  {
   "cell_type": "code",
   "execution_count": null,
   "metadata": {},
   "outputs": [],
   "source": [
    "# Create another plot that estimates the tuition by region\n",
    "sns.regplot(data=df,\n",
    "            y='Tuition',\n",
    "            x=\"PCTPELL\",\n",
    "            x_bins=5)\n",
    "\n",
    "plt.show()\n",
    "plt.clf()"
   ]
  },
  {
   "cell_type": "code",
   "execution_count": null,
   "metadata": {},
   "outputs": [],
   "source": [
    "# The final plot should include a line using a 2nd order polynomial\n",
    "sns.regplot(data=df,\n",
    "            y='Tuition',\n",
    "            x=\"PCTPELL\",\n",
    "            x_bins=5,\n",
    "            order=2)\n",
    "\n",
    "plt.show()\n",
    "plt.clf()"
   ]
  },
  {
   "cell_type": "markdown",
   "metadata": {},
   "source": [
    "## Binning data"
   ]
  },
  {
   "cell_type": "code",
   "execution_count": null,
   "metadata": {},
   "outputs": [],
   "source": [
    "# Create a scatter plot by disabling the regression line\n",
    "sns.regplot(data=df,\n",
    "            y='Tuition',\n",
    "            x=\"UG\",\n",
    "            fit_reg=False)\n",
    "\n",
    "plt.show()\n",
    "plt.clf()"
   ]
  },
  {
   "cell_type": "code",
   "execution_count": null,
   "metadata": {},
   "outputs": [],
   "source": [
    "# Create a scatter plot and bin the data into 5 bins\n",
    "sns.regplot(data=df,\n",
    "            y='Tuition',\n",
    "            x=\"UG\",\n",
    "            x_bins=5)\n",
    "\n",
    "plt.show()\n",
    "plt.clf()"
   ]
  },
  {
   "cell_type": "code",
   "execution_count": null,
   "metadata": {},
   "outputs": [],
   "source": [
    "# Create a regplot and bin the data into 8 bins\n",
    "sns.regplot(data=df,\n",
    "            y='Tuition',\n",
    "            x=\"UG\",\n",
    "            x_bins=8)\n",
    "\n",
    "plt.show()\n",
    "plt.clf()"
   ]
  },
  {
   "cell_type": "markdown",
   "metadata": {},
   "source": [
    "## Creating heatmaps"
   ]
  },
  {
   "cell_type": "code",
   "execution_count": null,
   "metadata": {},
   "outputs": [],
   "source": [
    "# Create a crosstab table of the data and print it\n",
    "pd_crosstab = pd.crosstab(df[\"Group\"], df[\"YEAR\"])\n",
    "print(pd_crosstab)\n",
    "\n",
    "# Plot a heatmap of the table\n",
    "sns.heatmap(pd_crosstab)\n",
    "\n",
    "# Rotate tick marks for visibility\n",
    "plt.yticks(rotation=0)\n",
    "plt.xticks(rotation=90)\n",
    "\n",
    "plt.show()"
   ]
  },
  {
   "cell_type": "markdown",
   "metadata": {},
   "source": [
    "## Customizing heatmaps"
   ]
  },
  {
   "cell_type": "code",
   "execution_count": null,
   "metadata": {},
   "outputs": [],
   "source": [
    "# Create the crosstab DataFrame\n",
    "pd_crosstab = pd.crosstab(df[\"Group\"], df[\"YEAR\"])\n",
    "\n",
    "# Plot a heatmap of the table\n",
    "sns.heatmap(pd_crosstab, cbar=False, cmap=\"BuGn\", linewidths=.3)\n",
    "\n",
    "# Rotate tick marks for visibility\n",
    "plt.yticks(rotation=0)\n",
    "plt.xticks(rotation=90)\n",
    "\n",
    "# Show the plot\n",
    "plt.show()\n",
    "plt.clf()"
   ]
  },
  {
   "cell_type": "markdown",
   "metadata": {},
   "source": [
    "# Creating Plots on Data Aware Grids"
   ]
  },
  {
   "cell_type": "markdown",
   "metadata": {},
   "source": [
    "## Building a FacetGrid"
   ]
  },
  {
   "cell_type": "code",
   "execution_count": null,
   "metadata": {},
   "outputs": [],
   "source": [
    "# Create FacetGrid with Degree_Type and specify the order of the rows using row_order\n",
    "g2 = sns.FacetGrid(df,\n",
    "                   row=\"Degree_Type\",\n",
    "                   row_order=['Graduate', 'Bachelors', 'Associates', 'Certificate'])\n",
    "\n",
    "# Map a pointplot of SAT_AVG_ALL onto the grid\n",
    "g2.map(sns.pointplot, 'SAT_AVG_ALL')\n",
    "\n",
    "# Show the plot\n",
    "plt.show()\n",
    "plt.clf()"
   ]
  },
  {
   "cell_type": "markdown",
   "metadata": {},
   "source": [
    "## Using a factorplot"
   ]
  },
  {
   "cell_type": "code",
   "execution_count": null,
   "metadata": {},
   "outputs": [],
   "source": [
    "# Create a factor plot that contains boxplots of Tuition values\n",
    "sns.factorplot(data=df,\n",
    "               x='Tuition',\n",
    "               kind='box',\n",
    "               row='Degree_Type')\n",
    "\n",
    "plt.show()\n",
    "plt.clf()"
   ]
  },
  {
   "cell_type": "code",
   "execution_count": null,
   "metadata": {},
   "outputs": [],
   "source": [
    "# Create a facetted pointplot of Average SAT scores facetted by Degree Type \n",
    "sns.factorplot(data=df,\n",
    "               x='SAT_AVG_ALL',\n",
    "               kind='point',\n",
    "               row='Degree_Type',\n",
    "               row_order=['Graduate', 'Bachelors', 'Associates', 'Certificate'])\n",
    "\n",
    "plt.show()\n",
    "plt.clf()"
   ]
  },
  {
   "cell_type": "markdown",
   "metadata": {},
   "source": [
    "## Using a lmplot"
   ]
  },
  {
   "cell_type": "code",
   "execution_count": null,
   "metadata": {},
   "outputs": [],
   "source": [
    "# Create a FacetGrid varying by column and columns ordered with the degree_order variable\n",
    "g = sns.FacetGrid(df, col=\"Degree_Type\", col_order=degree_ord)\n",
    "\n",
    "# Map a scatter plot of Undergrad Population compared to PCTPELL\n",
    "g.map(plt.scatter, 'UG', 'PCTPELL')\n",
    "\n",
    "plt.show()\n",
    "plt.clf()"
   ]
  },
  {
   "cell_type": "code",
   "execution_count": null,
   "metadata": {},
   "outputs": [],
   "source": [
    "# Re-create the plot above as an lmplot\n",
    "sns.lmplot(data=df,\n",
    "           x='UG',\n",
    "           y='PCTPELL',\n",
    "           col=\"Degree_Type\",\n",
    "           col_order=degree_ord)\n",
    "\n",
    "plt.show()\n",
    "plt.clf()"
   ]
  },
  {
   "cell_type": "code",
   "execution_count": null,
   "metadata": {},
   "outputs": [],
   "source": [
    "# Create an lmplot that has a column for Ownership, a row for Degree_Type\n",
    "# and hue based on the WOMENONLY column and columns defined by inst_order\n",
    "sns.lmplot(data=df,\n",
    "           x='SAT_AVG_ALL',\n",
    "           y='Tuition',\n",
    "           col=\"Ownership\",\n",
    "           row='Degree_Type', \n",
    "           row_order=['Graduate', 'Bachelors'],\n",
    "           hue='WOMENONLY',\n",
    "           col_order=inst_ord)\n",
    "\n",
    "plt.show()\n",
    "plt.clf()"
   ]
  },
  {
   "cell_type": "markdown",
   "metadata": {},
   "source": [
    "## Building a PairGrid"
   ]
  },
  {
   "cell_type": "code",
   "execution_count": null,
   "metadata": {},
   "outputs": [],
   "source": [
    "# Create a PairGrid with a scatter plot for fatal_collisions and premiums\n",
    "g = sns.PairGrid(df, vars=[\"fatal_collisions\", \"premiums\"])\n",
    "g2 = g.map(plt.scatter)\n",
    "\n",
    "plt.show()\n",
    "plt.clf()"
   ]
  },
  {
   "cell_type": "code",
   "execution_count": null,
   "metadata": {},
   "outputs": [],
   "source": [
    "# Create the same PairGrid but map a histogram on the diag\n",
    "g = sns.PairGrid(df, vars=[\"fatal_collisions\", \"premiums\"])\n",
    "g2 = g.map_diag(plt.hist)\n",
    "g3 = g2.map_offdiag(plt.scatter)\n",
    "\n",
    "plt.show()\n",
    "plt.clf()"
   ]
  },
  {
   "cell_type": "markdown",
   "metadata": {},
   "source": [
    "## Using a pairplot"
   ]
  },
  {
   "cell_type": "code",
   "execution_count": null,
   "metadata": {},
   "outputs": [],
   "source": [
    "# Create a pairwise plot of the variables using a scatter plot\n",
    "sns.pairplot(data=df,\n",
    "             vars=[\"fatal_collisions\", \"premiums\"],\n",
    "             kind='scatter')\n",
    "\n",
    "plt.show()\n",
    "plt.clf()"
   ]
  },
  {
   "cell_type": "code",
   "execution_count": null,
   "metadata": {},
   "outputs": [],
   "source": [
    "# Plot the same data but use a different color palette and color code by Region\n",
    "sns.pairplot(data=df,\n",
    "             vars=[\"fatal_collisions\", \"premiums\"],\n",
    "             kind='scatter',\n",
    "             hue='Region',\n",
    "             palette='RdBu',\n",
    "             diag_kws={'alpha':.5})\n",
    "\n",
    "plt.show()\n",
    "plt.clf()"
   ]
  },
  {
   "cell_type": "markdown",
   "metadata": {},
   "source": [
    "## Additional pairplots"
   ]
  },
  {
   "cell_type": "code",
   "execution_count": null,
   "metadata": {},
   "outputs": [],
   "source": [
    "# Build a pairplot with different x and y variables\n",
    "sns.pairplot(data=df,\n",
    "             x_vars=[\"fatal_collisions_speeding\", \"fatal_collisions_alc\"],\n",
    "             y_vars=['premiums', 'insurance_losses'],\n",
    "             kind='scatter',\n",
    "             hue='Region',\n",
    "             palette='husl')\n",
    "\n",
    "plt.show()\n",
    "plt.clf()"
   ]
  },
  {
   "cell_type": "code",
   "execution_count": null,
   "metadata": {},
   "outputs": [],
   "source": [
    "# plot relationships between insurance_losses and premiums\n",
    "sns.pairplot(data=df,\n",
    "             vars=[\"insurance_losses\", \"premiums\"],\n",
    "             kind='reg',\n",
    "             palette='BrBG',\n",
    "             diag_kind = 'kde',\n",
    "             hue='Region')\n",
    "\n",
    "plt.show()\n",
    "plt.clf()"
   ]
  },
  {
   "cell_type": "markdown",
   "metadata": {},
   "source": [
    "## Building a JointGrid and jointplot"
   ]
  },
  {
   "cell_type": "code",
   "execution_count": null,
   "metadata": {},
   "outputs": [],
   "source": [
    "# Build a JointGrid comparing humidity and total_rentals\n",
    "sns.set_style(\"whitegrid\")\n",
    "g = sns.JointGrid(x=\"hum\",\n",
    "                  y=\"total_rentals\",\n",
    "                  data=df,\n",
    "                  xlim=(0.1, 1.0))\n",
    "\n",
    "g.plot(sns.regplot, sns.distplot)\n",
    "\n",
    "plt.show()\n",
    "plt.clf()"
   ]
  },
  {
   "cell_type": "code",
   "execution_count": null,
   "metadata": {},
   "outputs": [],
   "source": [
    "# Create a jointplot similar to the JointGrid\n",
    "sns.jointplot(x=\"hum\",\n",
    "              y=\"total_rentals\",\n",
    "              kind='reg',\n",
    "              data=df)\n",
    "\n",
    "plt.show()\n",
    "plt.clf()"
   ]
  },
  {
   "cell_type": "markdown",
   "metadata": {},
   "source": [
    "## Jointplots and regression"
   ]
  },
  {
   "cell_type": "code",
   "execution_count": null,
   "metadata": {},
   "outputs": [],
   "source": [
    "# Plot temp vs. total_rentals as a regression plot\n",
    "sns.jointplot(x=\"temp\",\n",
    "              y=\"total_rentals\",\n",
    "              kind='reg',\n",
    "              data=df,\n",
    "              order=2,\n",
    "              xlim=(0, 1))\n",
    "\n",
    "plt.show()\n",
    "plt.clf()"
   ]
  },
  {
   "cell_type": "code",
   "execution_count": null,
   "metadata": {},
   "outputs": [],
   "source": [
    "# Plot a jointplot showing the residuals\n",
    "sns.jointplot(x=\"temp\",\n",
    "              y=\"total_rentals\",\n",
    "              kind='resid',\n",
    "              data=df,\n",
    "              order=2)\n",
    "\n",
    "plt.show()\n",
    "plt.clf()"
   ]
  },
  {
   "cell_type": "markdown",
   "metadata": {},
   "source": [
    "## Complex jointplots"
   ]
  },
  {
   "cell_type": "code",
   "execution_count": null,
   "metadata": {},
   "outputs": [],
   "source": [
    "# Create a jointplot of temp vs. casual riders\n",
    "# Include a kdeplot over the scatter plot\n",
    "g = (sns.jointplot(x=\"temp\",\n",
    "                   y=\"casual\",\n",
    "                   kind='scatter',\n",
    "                   data=df,\n",
    "                   marginal_kws=dict(bins=10, rug=True))\n",
    "    .plot_joint(sns.kdeplot))\n",
    "\n",
    "plt.show()\n",
    "plt.clf()"
   ]
  },
  {
   "cell_type": "code",
   "execution_count": null,
   "metadata": {},
   "outputs": [],
   "source": [
    "# Replicate the above plot but only for registered riders\n",
    "g = (sns.jointplot(x=\"temp\",\n",
    "                   y=\"registered\",\n",
    "                   kind='scatter',\n",
    "                   data=df,\n",
    "                   marginal_kws=dict(bins=10, rug=True))\n",
    "    .plot_joint(sns.kdeplot))\n",
    "\n",
    "plt.show()\n",
    "plt.clf()"
   ]
  }
 ],
 "metadata": {
  "kernelspec": {
   "display_name": "Python 3",
   "language": "python",
   "name": "python3"
  },
  "language_info": {
   "codemirror_mode": {
    "name": "ipython",
    "version": 3
   },
   "file_extension": ".py",
   "mimetype": "text/x-python",
   "name": "python",
   "nbconvert_exporter": "python",
   "pygments_lexer": "ipython3",
   "version": "3.7.6"
  },
  "toc": {
   "base_numbering": 1,
   "nav_menu": {},
   "number_sections": true,
   "sideBar": true,
   "skip_h1_title": false,
   "title_cell": "Table of Contents",
   "title_sidebar": "Contents",
   "toc_cell": true,
   "toc_position": {},
   "toc_section_display": true,
   "toc_window_display": false
  }
 },
 "nbformat": 4,
 "nbformat_minor": 4
}
